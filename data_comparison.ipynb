{
 "cells": [
  {
   "cell_type": "code",
   "execution_count": 2,
   "metadata": {},
   "outputs": [],
   "source": [
    "import pickle\n",
    "import pandas as pd\n",
    "import geopandas as gpd"
   ]
  },
  {
   "cell_type": "code",
   "execution_count": 4,
   "metadata": {},
   "outputs": [],
   "source": [
    "my_road_network = pd.read_pickle('my_results/method_1/06_alpes_maritimes_clip_road_network.pickle')"
   ]
  },
  {
   "cell_type": "code",
   "execution_count": 5,
   "metadata": {},
   "outputs": [
    {
     "name": "stderr",
     "output_type": "stream",
     "text": [
      "/home/marek/miniforge3/envs/old-street/lib/python3.12/pickle.py:1710: UserWarning: Unpickling a shapely <2.0 geometry object. Please save the pickle again; shapely 2.1 will not have this compatibility.\n",
      "  setstate(state)\n"
     ]
    }
   ],
   "source": [
    "road_network = pd.read_pickle('results/departments_06_sightlines_road_network_dataframe.pickle')"
   ]
  },
  {
   "cell_type": "code",
   "execution_count": 7,
   "metadata": {},
   "outputs": [],
   "source": [
    "my_sightlines = pd.read_pickle('my_results/method_1/06_alpes_maritimes_clip.pickle')\n",
    "sightlines = pd.read_pickle('results/departments_06_sightlines_dataframe.pickle')"
   ]
  },
  {
   "cell_type": "code",
   "execution_count": 9,
   "metadata": {},
   "outputs": [
    {
     "data": {
      "text/plain": [
       "uid                                                                 74338984\n",
       "left_OS_count               [1, 1, 1, 1, 1, 1, 1, 1, 1, 1, 1, 1, 1, 1, 1, 1]\n",
       "left_OS                    [18.034725312063717, 17.9543608886439, 15.4002...\n",
       "left_SB_count               [1, 1, 1, 1, 1, 1, 1, 1, 1, 1, 1, 1, 1, 1, 1, 0]\n",
       "left_SB                    [18.034725312063717, 17.9543608886439, 15.4002...\n",
       "left_H                     [26.0, 26.0, 26.0, 26.0, 26.0, 26.0, 26.0, 26....\n",
       "left_HW                    [1.4416632108396008, 1.448116151906301, 1.6882...\n",
       "left_BUILT_COVERAGE        [31.96527468802141, 32.045639111441226, 34.599...\n",
       "left_SEQ_SB_ids            [74202609, 74202609, 74202609, 74202609, 74202...\n",
       "left_SEQ_SB_categories         [8, 8, 8, 8, 8, 8, 8, 8, 8, 8, 8, 8, 8, 8, 8]\n",
       "right_OS_count              [1, 1, 1, 2, 2, 1, 2, 2, 2, 1, 1, 1, 1, 1, 1, 1]\n",
       "right_OS                   [50.0, 50.0, 50.0, 29.26385551114729, 24.48412...\n",
       "right_SB_count              [0, 0, 0, 2, 2, 1, 1, 0, 1, 1, 1, 1, 1, 1, 0, 0]\n",
       "right_SB                   [nan, nan, nan, 29.26385551114729, 24.48412619...\n",
       "right_H                    [nan, nan, nan, 18.7, 18.7, 18.7, 18.7, nan, 2...\n",
       "right_HW                   [nan, nan, nan, 0.6390135432727492, 0.76376015...\n",
       "right_BUILT_COVERAGE       [0.0, 0.0, 0.0, 20.507952902258342, 21.0542238...\n",
       "right_SEQ_SB_ids           [327934812, 327934812, 327934812, 327934812, 3...\n",
       "right_SEQ_SB_categories           [10, 10, 10, 10, 10, 10, 0, 0, 0, 0, 0, 0]\n",
       "front_SB                   [38.87792637922637, 41.90961012384649, 44.9412...\n",
       "back_SB                    [82.16242747503821, 79.13074372972814, 76.0990...\n",
       "nodes_degree_1                                                           0.0\n",
       "nodes_degree_4                                                           0.0\n",
       "nodes_degree_3_5_plus                                                    1.0\n",
       "street_length                                                      46.475256\n",
       "street_width                                                             6.0\n",
       "windingness                                                         0.036522\n",
       "Name: 74338984, dtype: object"
      ]
     },
     "execution_count": 9,
     "metadata": {},
     "output_type": "execute_result"
    }
   ],
   "source": [
    "sightlines.loc[74338984]"
   ]
  },
  {
   "cell_type": "code",
   "execution_count": 27,
   "metadata": {},
   "outputs": [],
   "source": [
    "my_filtered_gdf = my_sightlines[(my_sightlines['street_length'] >= 46.3) & (my_sightlines['street_length'] <= 46.5)]\n",
    "filtered_gdf = sightlines[(sightlines['street_length'] >= 46.47525) & (sightlines['street_length'] <= 46.47526)]"
   ]
  },
  {
   "cell_type": "code",
   "execution_count": 30,
   "metadata": {},
   "outputs": [
    {
     "data": {
      "text/plain": [
       "uid                                                                 74338984\n",
       "left_OS_count               [1, 1, 1, 1, 1, 1, 1, 1, 1, 1, 1, 1, 1, 1, 1, 1]\n",
       "left_OS                    [18.034725312063717, 17.9543608886439, 15.4002...\n",
       "left_SB_count               [1, 1, 1, 1, 1, 1, 1, 1, 1, 1, 1, 1, 1, 1, 1, 0]\n",
       "left_SB                    [18.034725312063717, 17.9543608886439, 15.4002...\n",
       "left_H                     [26.0, 26.0, 26.0, 26.0, 26.0, 26.0, 26.0, 26....\n",
       "left_HW                    [1.4416632108396008, 1.448116151906301, 1.6882...\n",
       "left_BUILT_COVERAGE        [31.96527468802141, 32.045639111441226, 34.599...\n",
       "left_SEQ_SB_ids            [74202609, 74202609, 74202609, 74202609, 74202...\n",
       "left_SEQ_SB_categories         [8, 8, 8, 8, 8, 8, 8, 8, 8, 8, 8, 8, 8, 8, 8]\n",
       "right_OS_count              [1, 1, 1, 2, 2, 1, 2, 2, 2, 1, 1, 1, 1, 1, 1, 1]\n",
       "right_OS                   [50.0, 50.0, 50.0, 29.26385551114729, 24.48412...\n",
       "right_SB_count              [0, 0, 0, 2, 2, 1, 1, 0, 1, 1, 1, 1, 1, 1, 0, 0]\n",
       "right_SB                   [nan, nan, nan, 29.26385551114729, 24.48412619...\n",
       "right_H                    [nan, nan, nan, 18.7, 18.7, 18.7, 18.7, nan, 2...\n",
       "right_HW                   [nan, nan, nan, 0.6390135432727492, 0.76376015...\n",
       "right_BUILT_COVERAGE       [0.0, 0.0, 0.0, 20.507952902258342, 21.0542238...\n",
       "right_SEQ_SB_ids           [327934812, 327934812, 327934812, 327934812, 3...\n",
       "right_SEQ_SB_categories           [10, 10, 10, 10, 10, 10, 0, 0, 0, 0, 0, 0]\n",
       "front_SB                   [38.87792637922637, 41.90961012384649, 44.9412...\n",
       "back_SB                    [82.16242747503821, 79.13074372972814, 76.0990...\n",
       "nodes_degree_1                                                           0.0\n",
       "nodes_degree_4                                                           0.0\n",
       "nodes_degree_3_5_plus                                                    1.0\n",
       "street_length                                                      46.475256\n",
       "street_width                                                             6.0\n",
       "windingness                                                         0.036522\n",
       "Name: 74338984, dtype: object"
      ]
     },
     "metadata": {},
     "output_type": "display_data"
    }
   ],
   "source": [
    "display(sightlines.loc[74338984])"
   ]
  },
  {
   "cell_type": "code",
   "execution_count": 31,
   "metadata": {},
   "outputs": [
    {
     "data": {
      "text/plain": [
       "uid                                                                      599\n",
       "sight_line_points          [POINT (1024381.164155554 6283083.029583332), ...\n",
       "left_OS_count               [1, 1, 1, 1, 1, 1, 1, 1, 1, 1, 1, 1, 1, 1, 1, 1]\n",
       "left_OS                    [18.034725312063717, 17.9543608886439, 15.4002...\n",
       "left_SB_count               [1, 1, 1, 1, 1, 1, 1, 1, 1, 1, 1, 1, 1, 1, 1, 0]\n",
       "left_SB                    [18.034725312063717, 17.9543608886439, 15.4002...\n",
       "left_H                     [26.0, 26.0, 26.0, 26.0, 26.0, 26.0, 26.0, 26....\n",
       "left_HW                    [1.4416632108396008, 1.448116151906301, 1.6882...\n",
       "left_BUILT_COVERAGE        [31.96527468802141, 32.045639111441226, 34.599...\n",
       "left_SEQ_SB_ids            [2334, 2334, 2334, 2334, 2334, 2334, 2334, 233...\n",
       "left_SEQ_SB_categories         [8, 8, 8, 8, 8, 8, 8, 8, 8, 8, 8, 8, 8, 8, 8]\n",
       "right_OS_count              [1, 1, 1, 2, 2, 1, 2, 2, 2, 1, 1, 1, 1, 1, 1, 1]\n",
       "right_OS                   [50.0, 50.0, 50.0, 29.26385551114729, 24.48412...\n",
       "right_SB_count              [0, 0, 0, 2, 2, 1, 1, 0, 1, 1, 1, 1, 1, 1, 0, 0]\n",
       "right_SB                   [nan, nan, nan, 29.26385551114729, 24.48412619...\n",
       "right_H                    [nan, nan, nan, 18.7, 18.7, 18.7, 18.7, nan, 2...\n",
       "right_HW                   [nan, nan, nan, 0.6390135432727492, 0.76376015...\n",
       "right_BUILT_COVERAGE       [0.0, 0.0, 0.0, 20.507952902258342, 21.0542238...\n",
       "right_SEQ_SB_ids           [2343, 2343, 2343, 2343, 2343, 2343, 2341, 234...\n",
       "right_SEQ_SB_categories           [10, 10, 10, 10, 10, 10, 0, 0, 0, 0, 0, 0]\n",
       "front_SB                   [38.87792637922637, 41.90961012384649, 44.9412...\n",
       "back_SB                    [122.36001266541291, 124.44143995241613, 133.5...\n",
       "left_SEQ_OS_endpoints      [POINT (1024418.2058223839 6283049.445138741),...\n",
       "right_SEQ_OS_endpoints     [POINT (1024344.1224887242 6283116.614027923),...\n",
       "nodes_degree_1                                                           0.0\n",
       "nodes_degree_4                                                           0.0\n",
       "nodes_degree_3_5_plus                                                    1.0\n",
       "street_length                                                      46.475256\n",
       "street_width                                                             6.0\n",
       "windingness                                                         0.036522\n",
       "Name: 599, dtype: object"
      ]
     },
     "metadata": {},
     "output_type": "display_data"
    }
   ],
   "source": [
    "display(my_sightlines.loc[599])"
   ]
  },
  {
   "cell_type": "markdown",
   "metadata": {},
   "source": [
    "# Comparison\n",
    "\n",
    "- [x] `left_OS_count`\n",
    "- [x] `lef_OS`\n",
    "- [x] `left_SB_count`\n",
    "- [x] `left_SB`\n",
    "- [x] `left_H`\n",
    "- [x] `left_HW`\n",
    "- [x] `left_BUILT_COVERAGE`\n",
    "- [x] `left_SEQ_SB_categories`\n",
    "- [x] `right_OS_count`\n",
    "- [x] `right_OS`\n",
    "- [x] `right_SB_count`\n",
    "- [x] `right_SB`\n",
    "- [x] `right_H`\n",
    "- [x] `right_HW`\n",
    "- [x] `right_BUILT_COVERAGE`\n",
    "- [x] `right_SEQ_SB_categories`\n",
    "- [x] `front_SB`\n",
    "- [ ] `back_SB`\n",
    "- [x] `nodes_degree_1`\n",
    "- [x] `nodes_degree_4`\n",
    "- [x] `nodes_degree_3_5_plus`\n",
    "- [x] `street_length`\n",
    "- [x] `street_width`\n",
    "- [x] `windingness`"
   ]
  },
  {
   "cell_type": "markdown",
   "metadata": {},
   "source": []
  }
 ],
 "metadata": {
  "kernelspec": {
   "display_name": "old-street",
   "language": "python",
   "name": "python3"
  },
  "language_info": {
   "codemirror_mode": {
    "name": "ipython",
    "version": 3
   },
   "file_extension": ".py",
   "mimetype": "text/x-python",
   "name": "python",
   "nbconvert_exporter": "python",
   "pygments_lexer": "ipython3",
   "version": "3.12.2"
  }
 },
 "nbformat": 4,
 "nbformat_minor": 2
}
