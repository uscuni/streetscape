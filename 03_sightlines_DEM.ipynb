{
 "cells": [
  {
   "cell_type": "code",
   "execution_count": 2,
   "id": "9bde1a11",
   "metadata": {
    "lines_to_next_cell": 0
   },
   "outputs": [],
   "source": [
    "import sys; sys.path.append('..')\n",
    "import datetime\n",
    "import math\n",
    "import pandas as pd\n",
    "import matplotlib.pyplot as plt\n",
    "import gc\n",
    "import numpy as np\n",
    "import toml\n",
    "import os \n",
    "import seaborn as sns\n",
    "import pickle\n",
    "import bz2\n",
    "\n",
    "from shapely.geometry import Point\n",
    "from zipfile import ZipFile\n",
    "from shapely.ops import unary_union\n",
    "from rtree import index as rtree_index"
   ]
  },
  {
   "cell_type": "markdown",
   "id": "fabcece2",
   "metadata": {},
   "source": [
    "# Configuration"
   ]
  },
  {
   "cell_type": "raw",
   "id": "3afe2553",
   "metadata": {},
   "source": [
    "# exemple multi departement a la fois \n",
    "PARAM_insee_layer_name = 'departments'\n",
    "PARAM_insee_codes = ['31', '33', '75', '77', '78', '91', '92', '93', '94','95']"
   ]
  },
  {
   "cell_type": "markdown",
   "id": "477f1b76",
   "metadata": {},
   "source": [
    "# Configuration choisie"
   ]
  },
  {
   "cell_type": "code",
   "execution_count": 4,
   "id": "89d57147",
   "metadata": {},
   "outputs": [],
   "source": [
    "PARAM_insee_layer_name,PARAM_insee_codes = 'samples', ['place_de_gaulle']\n",
    "\n"
   ]
  },
  {
   "cell_type": "code",
   "execution_count": 7,
   "id": "2d9ae524",
   "metadata": {
    "lines_to_next_cell": 0
   },
   "outputs": [],
   "source": [
    "# Original IGN DATASET\n",
    "MNT_ROOT_PATH = 'W:\\\\data\\\\Raw\\\\IGN\\\\RGEALTI_1M_France_zip\\\\'\n",
    "MNT_VERSION = '2020-10-00379'\n",
    "MNT_DATE = '20201028'\n",
    "\n",
    "# Numpy tiles BZ2 compressed version IGN DATASET (Prefect flow)\n",
    "MNT_TARGET_PATH = 'W:\\\\data\\\\Raw\\\\IGN\\\\RGEALTI_1M_TILES_BZ2'\n",
    "MNT_NO_DATA_VALUE = -99999.00"
   ]
  },
  {
   "cell_type": "markdown",
   "id": "e5a355bd",
   "metadata": {},
   "source": [
    "# Load MNT Tiles shapefile"
   ]
  },
  {
   "cell_type": "code",
   "execution_count": 9,
   "id": "7f88ba53",
   "metadata": {},
   "outputs": [
    {
     "data": {
      "text/plain": [
       "(543113, 9)"
      ]
     },
     "metadata": {},
     "output_type": "display_data"
    },
    {
     "data": {
      "text/html": [
       "<div>\n",
       "<style scoped>\n",
       "    .dataframe tbody tr th:only-of-type {\n",
       "        vertical-align: middle;\n",
       "    }\n",
       "\n",
       "    .dataframe tbody tr th {\n",
       "        vertical-align: top;\n",
       "    }\n",
       "\n",
       "    .dataframe thead th {\n",
       "        text-align: right;\n",
       "    }\n",
       "</style>\n",
       "<table border=\"1\" class=\"dataframe\">\n",
       "  <thead>\n",
       "    <tr style=\"text-align: right;\">\n",
       "      <th></th>\n",
       "      <th>0</th>\n",
       "      <th>1</th>\n",
       "      <th>2</th>\n",
       "      <th>3</th>\n",
       "      <th>4</th>\n",
       "      <th>5</th>\n",
       "      <th>6</th>\n",
       "      <th>7</th>\n",
       "      <th>8</th>\n",
       "      <th>9</th>\n",
       "      <th>10</th>\n",
       "      <th>11</th>\n",
       "      <th>12</th>\n",
       "      <th>13</th>\n",
       "      <th>14</th>\n",
       "      <th>15</th>\n",
       "      <th>16</th>\n",
       "      <th>17</th>\n",
       "      <th>18</th>\n",
       "      <th>19</th>\n",
       "    </tr>\n",
       "  </thead>\n",
       "  <tbody>\n",
       "    <tr>\n",
       "      <th>geometry</th>\n",
       "      <td>POLYGON ((814000 6569000, 815000 6569000, 8150...</td>\n",
       "      <td>POLYGON ((785000 6389000, 786000 6389000, 7860...</td>\n",
       "      <td>POLYGON ((821000 6459000, 822000 6459000, 8220...</td>\n",
       "      <td>POLYGON ((1014000 6409000, 1015000 6409000, 10...</td>\n",
       "      <td>POLYGON ((460000 6262000, 461000 6262000, 4610...</td>\n",
       "      <td>POLYGON ((545000 6468000, 546000 6468000, 5460...</td>\n",
       "      <td>POLYGON ((702000 6465000, 703000 6465000, 7030...</td>\n",
       "      <td>POLYGON ((934000 6299000, 935000 6299000, 9350...</td>\n",
       "      <td>POLYGON ((878000 6543000, 879000 6543000, 8790...</td>\n",
       "      <td>POLYGON ((851000 6698000, 852000 6698000, 8520...</td>\n",
       "      <td>POLYGON ((606000 6318000, 607000 6318000, 6070...</td>\n",
       "      <td>POLYGON ((983000 6740000, 984000 6740000, 9840...</td>\n",
       "      <td>POLYGON ((795000 6392000, 796000 6392000, 7960...</td>\n",
       "      <td>POLYGON ((842000 6640000, 843000 6640000, 8430...</td>\n",
       "      <td>POLYGON ((957000 6658000, 958000 6658000, 9580...</td>\n",
       "      <td>POLYGON ((664000 6932000, 665000 6932000, 6650...</td>\n",
       "      <td>POLYGON ((734000 6508000, 735000 6508000, 7350...</td>\n",
       "      <td>POLYGON ((354000 6787000, 355000 6787000, 3550...</td>\n",
       "      <td>POLYGON ((439000 6310000, 440000 6310000, 4400...</td>\n",
       "      <td>POLYGON ((927000 6589000, 928000 6589000, 9280...</td>\n",
       "    </tr>\n",
       "    <tr>\n",
       "      <th>tile_name</th>\n",
       "      <td>GB/RGEALTI_FXX_0814_6569_MNT_LAMB93_IGN69</td>\n",
       "      <td>F7/RGEALTI_FXX_0785_6389_MNT_LAMB93_IGN69</td>\n",
       "      <td>G9/RGEALTI_FXX_0821_6459_MNT_LAMB93_IGN69</td>\n",
       "      <td>K8/RGEALTI_FXX_1014_6409_MNT_LAMB93_IGN69</td>\n",
       "      <td>95/RGEALTI_FXX_0460_6262_MNT_LAMB93_IGN69</td>\n",
       "      <td>A9/RGEALTI_FXX_0545_6468_MNT_LAMB93_IGN69</td>\n",
       "      <td>E9/RGEALTI_FXX_0702_6465_MNT_LAMB93_IGN69</td>\n",
       "      <td>I5/RGEALTI_FXX_0934_6299_MNT_LAMB93_IGN69</td>\n",
       "      <td>HA/RGEALTI_FXX_0878_6543_MNT_LAMB93_IGN69</td>\n",
       "      <td>HD/RGEALTI_FXX_0851_6698_MNT_LAMB93_IGN69</td>\n",
       "      <td>C6/RGEALTI_FXX_0606_6318_MNT_LAMB93_IGN69</td>\n",
       "      <td>JE/RGEALTI_FXX_0983_6740_MNT_LAMB93_IGN69</td>\n",
       "      <td>F7/RGEALTI_FXX_0795_6392_MNT_LAMB93_IGN69</td>\n",
       "      <td>GC/RGEALTI_FXX_0842_6640_MNT_LAMB93_IGN69</td>\n",
       "      <td>JD/RGEALTI_FXX_0957_6658_MNT_LAMB93_IGN69</td>\n",
       "      <td>DI/RGEALTI_FXX_0664_6932_MNT_LAMB93_IGN69</td>\n",
       "      <td>EA/RGEALTI_FXX_0734_6508_MNT_LAMB93_IGN69</td>\n",
       "      <td>7F/RGEALTI_FXX_0354_6787_MNT_LAMB93_IGN69</td>\n",
       "      <td>86/RGEALTI_FXX_0439_6310_MNT_LAMB93_IGN69</td>\n",
       "      <td>IB/RGEALTI_FXX_0927_6589_MNT_LAMB93_IGN69</td>\n",
       "    </tr>\n",
       "    <tr>\n",
       "      <th>tile_section</th>\n",
       "      <td>GB</td>\n",
       "      <td>F7</td>\n",
       "      <td>G9</td>\n",
       "      <td>K8</td>\n",
       "      <td>95</td>\n",
       "      <td>A9</td>\n",
       "      <td>E9</td>\n",
       "      <td>I5</td>\n",
       "      <td>HA</td>\n",
       "      <td>HD</td>\n",
       "      <td>C6</td>\n",
       "      <td>JE</td>\n",
       "      <td>F7</td>\n",
       "      <td>GC</td>\n",
       "      <td>JD</td>\n",
       "      <td>DI</td>\n",
       "      <td>EA</td>\n",
       "      <td>7F</td>\n",
       "      <td>86</td>\n",
       "      <td>IB</td>\n",
       "    </tr>\n",
       "    <tr>\n",
       "      <th>tile_x</th>\n",
       "      <td>0814</td>\n",
       "      <td>0785</td>\n",
       "      <td>0821</td>\n",
       "      <td>1014</td>\n",
       "      <td>0460</td>\n",
       "      <td>0545</td>\n",
       "      <td>0702</td>\n",
       "      <td>0934</td>\n",
       "      <td>0878</td>\n",
       "      <td>0851</td>\n",
       "      <td>0606</td>\n",
       "      <td>0983</td>\n",
       "      <td>0795</td>\n",
       "      <td>0842</td>\n",
       "      <td>0957</td>\n",
       "      <td>0664</td>\n",
       "      <td>0734</td>\n",
       "      <td>0354</td>\n",
       "      <td>0439</td>\n",
       "      <td>0927</td>\n",
       "    </tr>\n",
       "    <tr>\n",
       "      <th>tile_y</th>\n",
       "      <td>6569</td>\n",
       "      <td>6389</td>\n",
       "      <td>6459</td>\n",
       "      <td>6409</td>\n",
       "      <td>6262</td>\n",
       "      <td>6468</td>\n",
       "      <td>6465</td>\n",
       "      <td>6299</td>\n",
       "      <td>6543</td>\n",
       "      <td>6698</td>\n",
       "      <td>6318</td>\n",
       "      <td>6740</td>\n",
       "      <td>6392</td>\n",
       "      <td>6640</td>\n",
       "      <td>6658</td>\n",
       "      <td>6932</td>\n",
       "      <td>6508</td>\n",
       "      <td>6787</td>\n",
       "      <td>6310</td>\n",
       "      <td>6589</td>\n",
       "    </tr>\n",
       "    <tr>\n",
       "      <th>min_x</th>\n",
       "      <td>814000.0</td>\n",
       "      <td>785000.0</td>\n",
       "      <td>821000.0</td>\n",
       "      <td>1014000.0</td>\n",
       "      <td>460000.0</td>\n",
       "      <td>545000.0</td>\n",
       "      <td>702000.0</td>\n",
       "      <td>934000.0</td>\n",
       "      <td>878000.0</td>\n",
       "      <td>851000.0</td>\n",
       "      <td>606000.0</td>\n",
       "      <td>983000.0</td>\n",
       "      <td>795000.0</td>\n",
       "      <td>842000.0</td>\n",
       "      <td>957000.0</td>\n",
       "      <td>664000.0</td>\n",
       "      <td>734000.0</td>\n",
       "      <td>354000.0</td>\n",
       "      <td>439000.0</td>\n",
       "      <td>927000.0</td>\n",
       "    </tr>\n",
       "    <tr>\n",
       "      <th>min_y</th>\n",
       "      <td>6568000.0</td>\n",
       "      <td>6388000.0</td>\n",
       "      <td>6458000.0</td>\n",
       "      <td>6408000.0</td>\n",
       "      <td>6261000.0</td>\n",
       "      <td>6467000.0</td>\n",
       "      <td>6464000.0</td>\n",
       "      <td>6298000.0</td>\n",
       "      <td>6542000.0</td>\n",
       "      <td>6697000.0</td>\n",
       "      <td>6317000.0</td>\n",
       "      <td>6739000.0</td>\n",
       "      <td>6391000.0</td>\n",
       "      <td>6639000.0</td>\n",
       "      <td>6657000.0</td>\n",
       "      <td>6931000.0</td>\n",
       "      <td>6507000.0</td>\n",
       "      <td>6786000.0</td>\n",
       "      <td>6309000.0</td>\n",
       "      <td>6588000.0</td>\n",
       "    </tr>\n",
       "    <tr>\n",
       "      <th>max_x</th>\n",
       "      <td>815000.0</td>\n",
       "      <td>786000.0</td>\n",
       "      <td>822000.0</td>\n",
       "      <td>1015000.0</td>\n",
       "      <td>461000.0</td>\n",
       "      <td>546000.0</td>\n",
       "      <td>703000.0</td>\n",
       "      <td>935000.0</td>\n",
       "      <td>879000.0</td>\n",
       "      <td>852000.0</td>\n",
       "      <td>607000.0</td>\n",
       "      <td>984000.0</td>\n",
       "      <td>796000.0</td>\n",
       "      <td>843000.0</td>\n",
       "      <td>958000.0</td>\n",
       "      <td>665000.0</td>\n",
       "      <td>735000.0</td>\n",
       "      <td>355000.0</td>\n",
       "      <td>440000.0</td>\n",
       "      <td>928000.0</td>\n",
       "    </tr>\n",
       "    <tr>\n",
       "      <th>max_y</th>\n",
       "      <td>6569000.0</td>\n",
       "      <td>6389000.0</td>\n",
       "      <td>6459000.0</td>\n",
       "      <td>6409000.0</td>\n",
       "      <td>6262000.0</td>\n",
       "      <td>6468000.0</td>\n",
       "      <td>6465000.0</td>\n",
       "      <td>6299000.0</td>\n",
       "      <td>6543000.0</td>\n",
       "      <td>6698000.0</td>\n",
       "      <td>6318000.0</td>\n",
       "      <td>6740000.0</td>\n",
       "      <td>6392000.0</td>\n",
       "      <td>6640000.0</td>\n",
       "      <td>6658000.0</td>\n",
       "      <td>6932000.0</td>\n",
       "      <td>6508000.0</td>\n",
       "      <td>6787000.0</td>\n",
       "      <td>6310000.0</td>\n",
       "      <td>6589000.0</td>\n",
       "    </tr>\n",
       "  </tbody>\n",
       "</table>\n",
       "</div>"
      ],
      "text/plain": [
       "                                                             0   \\\n",
       "geometry      POLYGON ((814000 6569000, 815000 6569000, 8150...   \n",
       "tile_name             GB/RGEALTI_FXX_0814_6569_MNT_LAMB93_IGN69   \n",
       "tile_section                                                 GB   \n",
       "tile_x                                                     0814   \n",
       "tile_y                                                     6569   \n",
       "min_x                                                  814000.0   \n",
       "min_y                                                 6568000.0   \n",
       "max_x                                                  815000.0   \n",
       "max_y                                                 6569000.0   \n",
       "\n",
       "                                                             1   \\\n",
       "geometry      POLYGON ((785000 6389000, 786000 6389000, 7860...   \n",
       "tile_name             F7/RGEALTI_FXX_0785_6389_MNT_LAMB93_IGN69   \n",
       "tile_section                                                 F7   \n",
       "tile_x                                                     0785   \n",
       "tile_y                                                     6389   \n",
       "min_x                                                  785000.0   \n",
       "min_y                                                 6388000.0   \n",
       "max_x                                                  786000.0   \n",
       "max_y                                                 6389000.0   \n",
       "\n",
       "                                                             2   \\\n",
       "geometry      POLYGON ((821000 6459000, 822000 6459000, 8220...   \n",
       "tile_name             G9/RGEALTI_FXX_0821_6459_MNT_LAMB93_IGN69   \n",
       "tile_section                                                 G9   \n",
       "tile_x                                                     0821   \n",
       "tile_y                                                     6459   \n",
       "min_x                                                  821000.0   \n",
       "min_y                                                 6458000.0   \n",
       "max_x                                                  822000.0   \n",
       "max_y                                                 6459000.0   \n",
       "\n",
       "                                                             3   \\\n",
       "geometry      POLYGON ((1014000 6409000, 1015000 6409000, 10...   \n",
       "tile_name             K8/RGEALTI_FXX_1014_6409_MNT_LAMB93_IGN69   \n",
       "tile_section                                                 K8   \n",
       "tile_x                                                     1014   \n",
       "tile_y                                                     6409   \n",
       "min_x                                                 1014000.0   \n",
       "min_y                                                 6408000.0   \n",
       "max_x                                                 1015000.0   \n",
       "max_y                                                 6409000.0   \n",
       "\n",
       "                                                             4   \\\n",
       "geometry      POLYGON ((460000 6262000, 461000 6262000, 4610...   \n",
       "tile_name             95/RGEALTI_FXX_0460_6262_MNT_LAMB93_IGN69   \n",
       "tile_section                                                 95   \n",
       "tile_x                                                     0460   \n",
       "tile_y                                                     6262   \n",
       "min_x                                                  460000.0   \n",
       "min_y                                                 6261000.0   \n",
       "max_x                                                  461000.0   \n",
       "max_y                                                 6262000.0   \n",
       "\n",
       "                                                             5   \\\n",
       "geometry      POLYGON ((545000 6468000, 546000 6468000, 5460...   \n",
       "tile_name             A9/RGEALTI_FXX_0545_6468_MNT_LAMB93_IGN69   \n",
       "tile_section                                                 A9   \n",
       "tile_x                                                     0545   \n",
       "tile_y                                                     6468   \n",
       "min_x                                                  545000.0   \n",
       "min_y                                                 6467000.0   \n",
       "max_x                                                  546000.0   \n",
       "max_y                                                 6468000.0   \n",
       "\n",
       "                                                             6   \\\n",
       "geometry      POLYGON ((702000 6465000, 703000 6465000, 7030...   \n",
       "tile_name             E9/RGEALTI_FXX_0702_6465_MNT_LAMB93_IGN69   \n",
       "tile_section                                                 E9   \n",
       "tile_x                                                     0702   \n",
       "tile_y                                                     6465   \n",
       "min_x                                                  702000.0   \n",
       "min_y                                                 6464000.0   \n",
       "max_x                                                  703000.0   \n",
       "max_y                                                 6465000.0   \n",
       "\n",
       "                                                             7   \\\n",
       "geometry      POLYGON ((934000 6299000, 935000 6299000, 9350...   \n",
       "tile_name             I5/RGEALTI_FXX_0934_6299_MNT_LAMB93_IGN69   \n",
       "tile_section                                                 I5   \n",
       "tile_x                                                     0934   \n",
       "tile_y                                                     6299   \n",
       "min_x                                                  934000.0   \n",
       "min_y                                                 6298000.0   \n",
       "max_x                                                  935000.0   \n",
       "max_y                                                 6299000.0   \n",
       "\n",
       "                                                             8   \\\n",
       "geometry      POLYGON ((878000 6543000, 879000 6543000, 8790...   \n",
       "tile_name             HA/RGEALTI_FXX_0878_6543_MNT_LAMB93_IGN69   \n",
       "tile_section                                                 HA   \n",
       "tile_x                                                     0878   \n",
       "tile_y                                                     6543   \n",
       "min_x                                                  878000.0   \n",
       "min_y                                                 6542000.0   \n",
       "max_x                                                  879000.0   \n",
       "max_y                                                 6543000.0   \n",
       "\n",
       "                                                             9   \\\n",
       "geometry      POLYGON ((851000 6698000, 852000 6698000, 8520...   \n",
       "tile_name             HD/RGEALTI_FXX_0851_6698_MNT_LAMB93_IGN69   \n",
       "tile_section                                                 HD   \n",
       "tile_x                                                     0851   \n",
       "tile_y                                                     6698   \n",
       "min_x                                                  851000.0   \n",
       "min_y                                                 6697000.0   \n",
       "max_x                                                  852000.0   \n",
       "max_y                                                 6698000.0   \n",
       "\n",
       "                                                             10  \\\n",
       "geometry      POLYGON ((606000 6318000, 607000 6318000, 6070...   \n",
       "tile_name             C6/RGEALTI_FXX_0606_6318_MNT_LAMB93_IGN69   \n",
       "tile_section                                                 C6   \n",
       "tile_x                                                     0606   \n",
       "tile_y                                                     6318   \n",
       "min_x                                                  606000.0   \n",
       "min_y                                                 6317000.0   \n",
       "max_x                                                  607000.0   \n",
       "max_y                                                 6318000.0   \n",
       "\n",
       "                                                             11  \\\n",
       "geometry      POLYGON ((983000 6740000, 984000 6740000, 9840...   \n",
       "tile_name             JE/RGEALTI_FXX_0983_6740_MNT_LAMB93_IGN69   \n",
       "tile_section                                                 JE   \n",
       "tile_x                                                     0983   \n",
       "tile_y                                                     6740   \n",
       "min_x                                                  983000.0   \n",
       "min_y                                                 6739000.0   \n",
       "max_x                                                  984000.0   \n",
       "max_y                                                 6740000.0   \n",
       "\n",
       "                                                             12  \\\n",
       "geometry      POLYGON ((795000 6392000, 796000 6392000, 7960...   \n",
       "tile_name             F7/RGEALTI_FXX_0795_6392_MNT_LAMB93_IGN69   \n",
       "tile_section                                                 F7   \n",
       "tile_x                                                     0795   \n",
       "tile_y                                                     6392   \n",
       "min_x                                                  795000.0   \n",
       "min_y                                                 6391000.0   \n",
       "max_x                                                  796000.0   \n",
       "max_y                                                 6392000.0   \n",
       "\n",
       "                                                             13  \\\n",
       "geometry      POLYGON ((842000 6640000, 843000 6640000, 8430...   \n",
       "tile_name             GC/RGEALTI_FXX_0842_6640_MNT_LAMB93_IGN69   \n",
       "tile_section                                                 GC   \n",
       "tile_x                                                     0842   \n",
       "tile_y                                                     6640   \n",
       "min_x                                                  842000.0   \n",
       "min_y                                                 6639000.0   \n",
       "max_x                                                  843000.0   \n",
       "max_y                                                 6640000.0   \n",
       "\n",
       "                                                             14  \\\n",
       "geometry      POLYGON ((957000 6658000, 958000 6658000, 9580...   \n",
       "tile_name             JD/RGEALTI_FXX_0957_6658_MNT_LAMB93_IGN69   \n",
       "tile_section                                                 JD   \n",
       "tile_x                                                     0957   \n",
       "tile_y                                                     6658   \n",
       "min_x                                                  957000.0   \n",
       "min_y                                                 6657000.0   \n",
       "max_x                                                  958000.0   \n",
       "max_y                                                 6658000.0   \n",
       "\n",
       "                                                             15  \\\n",
       "geometry      POLYGON ((664000 6932000, 665000 6932000, 6650...   \n",
       "tile_name             DI/RGEALTI_FXX_0664_6932_MNT_LAMB93_IGN69   \n",
       "tile_section                                                 DI   \n",
       "tile_x                                                     0664   \n",
       "tile_y                                                     6932   \n",
       "min_x                                                  664000.0   \n",
       "min_y                                                 6931000.0   \n",
       "max_x                                                  665000.0   \n",
       "max_y                                                 6932000.0   \n",
       "\n",
       "                                                             16  \\\n",
       "geometry      POLYGON ((734000 6508000, 735000 6508000, 7350...   \n",
       "tile_name             EA/RGEALTI_FXX_0734_6508_MNT_LAMB93_IGN69   \n",
       "tile_section                                                 EA   \n",
       "tile_x                                                     0734   \n",
       "tile_y                                                     6508   \n",
       "min_x                                                  734000.0   \n",
       "min_y                                                 6507000.0   \n",
       "max_x                                                  735000.0   \n",
       "max_y                                                 6508000.0   \n",
       "\n",
       "                                                             17  \\\n",
       "geometry      POLYGON ((354000 6787000, 355000 6787000, 3550...   \n",
       "tile_name             7F/RGEALTI_FXX_0354_6787_MNT_LAMB93_IGN69   \n",
       "tile_section                                                 7F   \n",
       "tile_x                                                     0354   \n",
       "tile_y                                                     6787   \n",
       "min_x                                                  354000.0   \n",
       "min_y                                                 6786000.0   \n",
       "max_x                                                  355000.0   \n",
       "max_y                                                 6787000.0   \n",
       "\n",
       "                                                             18  \\\n",
       "geometry      POLYGON ((439000 6310000, 440000 6310000, 4400...   \n",
       "tile_name             86/RGEALTI_FXX_0439_6310_MNT_LAMB93_IGN69   \n",
       "tile_section                                                 86   \n",
       "tile_x                                                     0439   \n",
       "tile_y                                                     6310   \n",
       "min_x                                                  439000.0   \n",
       "min_y                                                 6309000.0   \n",
       "max_x                                                  440000.0   \n",
       "max_y                                                 6310000.0   \n",
       "\n",
       "                                                             19  \n",
       "geometry      POLYGON ((927000 6589000, 928000 6589000, 9280...  \n",
       "tile_name             IB/RGEALTI_FXX_0927_6589_MNT_LAMB93_IGN69  \n",
       "tile_section                                                 IB  \n",
       "tile_x                                                     0927  \n",
       "tile_y                                                     6589  \n",
       "min_x                                                  927000.0  \n",
       "min_y                                                 6588000.0  \n",
       "max_x                                                  928000.0  \n",
       "max_y                                                 6589000.0  "
      ]
     },
     "execution_count": 9,
     "metadata": {},
     "output_type": "execute_result"
    }
   ],
   "source": [
    "def extract_tile_infos(tile_name):\n",
    "    section = tile_name[0:2]\n",
    "    tokens = tile_name.split('_')\n",
    "    tile_x = tokens[2] \n",
    "    tile_y = tokens[3] \n",
    "    return [section,tile_x,tile_y]\n",
    "    return 0\n",
    "\n",
    "mnt_tiles_shp_filename = os.path.join(MNT_ROOT_PATH, f'3_SUPPLEMENTS_LIVRAISON_{MNT_VERSION}')\n",
    "mnt_tiles_shp_filename = os.path.join(mnt_tiles_shp_filename, f'RGEALTI_MNT_1M_ASC_LAMB93_IGN69_FXX_{MNT_DATE}')\n",
    "mnt_tiles_shp_filename = os.path.join(mnt_tiles_shp_filename, 'dalles.shp')\n",
    "gdf_tiles = gpd.read_file(mnt_tiles_shp_filename)\n",
    "\n",
    "\n",
    "gdf_tiles = gdf_tiles[['geometry','NOM_DALLE']].rename(columns={'NOM_DALLE': 'tile_name'})\n",
    "gdf_tiles= gdf_tiles.join(pd.DataFrame([extract_tile_infos(tile_name) for tile_name in gdf_tiles.tile_name.values],\n",
    "                                      columns=['tile_section','tile_x','tile_y']))\n",
    "\n",
    "\n",
    "gdf_tiles[['min_x', 'min_y', 'max_x', 'max_y']]=gdf_tiles.bounds\n",
    "gdf_tiles.head(20).transpose()\n",
    "\n",
    "display(gdf_tiles.shape)\n",
    "gdf_tiles.head(20).transpose()"
   ]
  },
  {
   "cell_type": "markdown",
   "id": "fd2c01e9",
   "metadata": {},
   "source": [
    "# BZ2 compressed numpy tiles"
   ]
  },
  {
   "cell_type": "code",
   "execution_count": 10,
   "id": "094f5a44",
   "metadata": {},
   "outputs": [],
   "source": [
    "import enum\n",
    "import os\n",
    "\n",
    "# Enum for size units\n",
    "class SIZE_UNIT(enum.Enum):\n",
    "   BYTES = 1\n",
    "   KB = 2\n",
    "   MB = 3\n",
    "   GB = 4\n",
    "\n",
    "def convert_unit(size_in_bytes, unit):\n",
    "   \"\"\" Convert the size from bytes to other units like KB, MB or GB\"\"\"\n",
    "   if unit == SIZE_UNIT.KB:\n",
    "       return size_in_bytes/1024\n",
    "   elif unit == SIZE_UNIT.MB:\n",
    "       return size_in_bytes/(1024*1024)\n",
    "   elif unit == SIZE_UNIT.GB:\n",
    "       return size_in_bytes/(1024*1024*1024)\n",
    "   else:\n",
    "       return size_in_bytes\n",
    "\n",
    "def get_file_size(file_name, size_type = SIZE_UNIT.BYTES ):\n",
    "   \"\"\" Get file in size in given unit like KB, MB or GB\"\"\"\n",
    "   size = os.path.getsize(file_name)\n",
    "   return convert_unit(size, size_type)\n",
    "\n",
    "def load_numpy_bz2_tile(section,\n",
    "                        tile_x,\n",
    "                        tile_y,\n",
    "                        verbose_function=None):\n",
    "    \n",
    "    tile_filename = os.path.join(MNT_TARGET_PATH,'ASC')\n",
    "    tile_filename = os.path.join(tile_filename,f'{section}')\n",
    "    tile_filename = os.path.join(tile_filename,f\"RGEALTI_FXX_{int(tile_x):04}_{int(tile_y):04}_MNT_LAMB93_IGN69.asc.bz2\")\n",
    "    if verbose_function is not None:\n",
    "        verbose_function(f'Loading ASC file ({round(get_file_size(tile_filename,SIZE_UNIT.KB),0)} KB): {tile_filename} ')\n",
    "         \n",
    "    return pickle.load(bz2.open(tile_filename,  'rb' ) )\n",
    "\n",
    "\n"
   ]
  },
  {
   "cell_type": "markdown",
   "id": "a04cbc8f",
   "metadata": {},
   "source": [
    "# Unit Test (Load Bz2 tiles)"
   ]
  },
  {
   "cell_type": "code",
   "execution_count": 11,
   "id": "5c913de6",
   "metadata": {
    "lines_to_next_cell": 2
   },
   "outputs": [
    {
     "name": "stdout",
     "output_type": "stream",
     "text": [
      "[==================================================] 100% (0 s) "
     ]
    },
    {
     "data": {
      "text/plain": [
       "array([[34.25, 34.45, 34.63, ...,  3.32,  3.27,  3.23],\n",
       "       [34.18, 34.4 , 34.61, ...,  3.24,  3.22,  3.25],\n",
       "       [34.13, 34.34, 34.63, ...,  3.27,  3.2 ,  3.17],\n",
       "       ...,\n",
       "       [ 1.49,  1.46,  1.51, ..., 27.45, 27.45, 27.5 ],\n",
       "       [ 1.49,  1.46,  1.47, ..., 27.56, 27.52, 27.55],\n",
       "       [ 1.5 ,  1.46,  1.44, ..., 27.62, 27.59, 27.65]])"
      ]
     },
     "execution_count": 11,
     "metadata": {},
     "output_type": "execute_result"
    }
   ],
   "source": [
    "section = 'K5'\n",
    "tile_x,tile_y=1026,6279 # NO DATA tile (2Kb zipped)\n",
    "tile_x,tile_y=1032,6284 # standard 1000x1000 tile\n",
    "\n",
    "n_loop=1\n",
    "progress = ProgressBar(n_loop)\n",
    "for i in range (n_loop):\n",
    "    load_numpy_bz2_tile(section,tile_x,tile_y,\n",
    "                        verbose_function=None)\n",
    "                        #verbose_function=display)\n",
    "    progress.progress_step('')\n",
    "    \n",
    "load_numpy_bz2_tile(section,tile_x,tile_y,\n",
    "                        verbose_function=None)"
   ]
  },
  {
   "cell_type": "code",
   "execution_count": 12,
   "id": "90f703a2",
   "metadata": {
    "lines_to_next_cell": 0
   },
   "outputs": [
    {
     "data": {
      "text/plain": [
       "'X TILE TEST: (y,x) = (1031999.4999, 0) --> (tile_x,tile_y)= (1031, 0) @ (999, 0). OK. OK'"
      ]
     },
     "metadata": {},
     "output_type": "display_data"
    },
    {
     "data": {
      "text/plain": [
       "'X TILE TEST: (y,x) = (1031999.5, 0) --> (tile_x,tile_y)= (1032, 0) @ (0, 0). OK. OK'"
      ]
     },
     "metadata": {},
     "output_type": "display_data"
    },
    {
     "data": {
      "text/plain": [
       "'X TILE TEST: (y,x) = (1031999.6, 0) --> (tile_x,tile_y)= (1032, 0) @ (0, 0). OK. OK'"
      ]
     },
     "metadata": {},
     "output_type": "display_data"
    },
    {
     "data": {
      "text/plain": [
       "'X TILE TEST: (y,x) = (1032998.499, 0) --> (tile_x,tile_y)= (1032, 0) @ (998, 0). OK. OK'"
      ]
     },
     "metadata": {},
     "output_type": "display_data"
    },
    {
     "data": {
      "text/plain": [
       "'X TILE TEST: (y,x) = (1032998.5, 0) --> (tile_x,tile_y)= (1032, 0) @ (999, 0). OK. OK'"
      ]
     },
     "metadata": {},
     "output_type": "display_data"
    },
    {
     "data": {
      "text/plain": [
       "'X TILE TEST: (y,x) = (1032998.6, 0) --> (tile_x,tile_y)= (1032, 0) @ (999, 0). OK. OK'"
      ]
     },
     "metadata": {},
     "output_type": "display_data"
    },
    {
     "data": {
      "text/plain": [
       "'X TILE TEST: (y,x) = (1032998.7, 0) --> (tile_x,tile_y)= (1032, 0) @ (999, 0). OK. OK'"
      ]
     },
     "metadata": {},
     "output_type": "display_data"
    },
    {
     "data": {
      "text/plain": [
       "'X TILE TEST: (y,x) = (1032998.9, 0) --> (tile_x,tile_y)= (1032, 0) @ (999, 0). OK. OK'"
      ]
     },
     "metadata": {},
     "output_type": "display_data"
    },
    {
     "data": {
      "text/plain": [
       "'X TILE TEST: (y,x) = (1032999.0, 0) --> (tile_x,tile_y)= (1032, 0) @ (999, 0). OK. OK'"
      ]
     },
     "metadata": {},
     "output_type": "display_data"
    },
    {
     "data": {
      "text/plain": [
       "'X TILE TEST: (y,x) = (1032999.1, 0) --> (tile_x,tile_y)= (1032, 0) @ (999, 0). OK. OK'"
      ]
     },
     "metadata": {},
     "output_type": "display_data"
    },
    {
     "data": {
      "text/plain": [
       "'X TILE TEST: (y,x) = (1032999.2, 0) --> (tile_x,tile_y)= (1032, 0) @ (999, 0). OK. OK'"
      ]
     },
     "metadata": {},
     "output_type": "display_data"
    },
    {
     "data": {
      "text/plain": [
       "'X TILE TEST: (y,x) = (1032999.3, 0) --> (tile_x,tile_y)= (1032, 0) @ (999, 0). OK. OK'"
      ]
     },
     "metadata": {},
     "output_type": "display_data"
    },
    {
     "data": {
      "text/plain": [
       "'X TILE TEST: (y,x) = (1032999.4, 0) --> (tile_x,tile_y)= (1032, 0) @ (999, 0). OK. OK'"
      ]
     },
     "metadata": {},
     "output_type": "display_data"
    },
    {
     "data": {
      "text/plain": [
       "'X TILE TEST: (y,x) = (1032999.499, 0) --> (tile_x,tile_y)= (1032, 0) @ (999, 0). OK. OK'"
      ]
     },
     "metadata": {},
     "output_type": "display_data"
    },
    {
     "data": {
      "text/plain": [
       "'X TILE TEST: (y,x) = (1032999.5, 0) --> (tile_x,tile_y)= (1033, 0) @ (0, 0). OK. OK'"
      ]
     },
     "metadata": {},
     "output_type": "display_data"
    },
    {
     "data": {
      "text/plain": [
       "'Y TILE TEST: (y,x) = (0, 6283000.4999) --> (tile_x,tile_y)= (0, 6283) @ (0, 0). OK. OK'"
      ]
     },
     "metadata": {},
     "output_type": "display_data"
    },
    {
     "data": {
      "text/plain": [
       "'Y TILE TEST: (y,x) = (0, 6283000.5) --> (tile_x,tile_y)= (0, 6284) @ (0, 999). OK. OK'"
      ]
     },
     "metadata": {},
     "output_type": "display_data"
    },
    {
     "data": {
      "text/plain": [
       "'Y TILE TEST: (y,x) = (0, 6283000.6) --> (tile_x,tile_y)= (0, 6284) @ (0, 999). OK. OK'"
      ]
     },
     "metadata": {},
     "output_type": "display_data"
    },
    {
     "data": {
      "text/plain": [
       "'Y TILE TEST: (y,x) = (0, 6283999.48) --> (tile_x,tile_y)= (0, 6284) @ (0, 1). OK. OK'"
      ]
     },
     "metadata": {},
     "output_type": "display_data"
    },
    {
     "data": {
      "text/plain": [
       "'Y TILE TEST: (y,x) = (0, 6283999.499) --> (tile_x,tile_y)= (0, 6284) @ (0, 1). OK. OK'"
      ]
     },
     "metadata": {},
     "output_type": "display_data"
    },
    {
     "data": {
      "text/plain": [
       "'Y TILE TEST: (y,x) = (0, 6283999.5) --> (tile_x,tile_y)= (0, 6284) @ (0, 1). OK. OK'"
      ]
     },
     "metadata": {},
     "output_type": "display_data"
    },
    {
     "data": {
      "text/plain": [
       "'Y TILE TEST: (y,x) = (0, 6283999.5111) --> (tile_x,tile_y)= (0, 6284) @ (0, 0). OK. OK'"
      ]
     },
     "metadata": {},
     "output_type": "display_data"
    },
    {
     "data": {
      "text/plain": [
       "'Y TILE TEST: (y,x) = (0, 6283999.6) --> (tile_x,tile_y)= (0, 6284) @ (0, 0). OK. OK'"
      ]
     },
     "metadata": {},
     "output_type": "display_data"
    },
    {
     "data": {
      "text/plain": [
       "'Y TILE TEST: (y,x) = (0, 6283999.7) --> (tile_x,tile_y)= (0, 6284) @ (0, 0). OK. OK'"
      ]
     },
     "metadata": {},
     "output_type": "display_data"
    },
    {
     "data": {
      "text/plain": [
       "'Y TILE TEST: (y,x) = (0, 6283999.9) --> (tile_x,tile_y)= (0, 6284) @ (0, 0). OK. OK'"
      ]
     },
     "metadata": {},
     "output_type": "display_data"
    },
    {
     "data": {
      "text/plain": [
       "'Y TILE TEST: (y,x) = (0, 6284000.0) --> (tile_x,tile_y)= (0, 6284) @ (0, 0). OK. OK'"
      ]
     },
     "metadata": {},
     "output_type": "display_data"
    },
    {
     "data": {
      "text/plain": [
       "'Y TILE TEST: (y,x) = (0, 6284000.1) --> (tile_x,tile_y)= (0, 6284) @ (0, 0). OK. OK'"
      ]
     },
     "metadata": {},
     "output_type": "display_data"
    },
    {
     "data": {
      "text/plain": [
       "'Y TILE TEST: (y,x) = (0, 6284000.2) --> (tile_x,tile_y)= (0, 6284) @ (0, 0). OK. OK'"
      ]
     },
     "metadata": {},
     "output_type": "display_data"
    },
    {
     "data": {
      "text/plain": [
       "'Y TILE TEST: (y,x) = (0, 6284000.3) --> (tile_x,tile_y)= (0, 6284) @ (0, 0). OK. OK'"
      ]
     },
     "metadata": {},
     "output_type": "display_data"
    },
    {
     "data": {
      "text/plain": [
       "'Y TILE TEST: (y,x) = (0, 6284000.4) --> (tile_x,tile_y)= (0, 6284) @ (0, 0). OK. OK'"
      ]
     },
     "metadata": {},
     "output_type": "display_data"
    },
    {
     "data": {
      "text/plain": [
       "'Y TILE TEST: (y,x) = (0, 6284000.499) --> (tile_x,tile_y)= (0, 6284) @ (0, 0). OK. OK'"
      ]
     },
     "metadata": {},
     "output_type": "display_data"
    },
    {
     "data": {
      "text/plain": [
       "'Y TILE TEST: (y,x) = (0, 6284000.5) --> (tile_x,tile_y)= (0, 6285) @ (0, 999). OK. OK'"
      ]
     },
     "metadata": {},
     "output_type": "display_data"
    }
   ],
   "source": [
    "MNT_CELLSIZE=1\n",
    "MNT_TILE_XCOUNT= 1000\n",
    "MNT_TILE_YCOUNT= 1000\n",
    "MNT_llcorner_X0 = -0.5\n",
    "MNT_llcorner_Y0 = -999.5\n",
    "\n",
    "def mnt_xy_to_tile(x,y):\n",
    "    cell_x = (x-MNT_llcorner_X0)/(MNT_TILE_XCOUNT*MNT_CELLSIZE)\n",
    "    cell_y = (y-MNT_llcorner_Y0)/(MNT_TILE_YCOUNT*MNT_CELLSIZE)    \n",
    "    tile_x = int(math.floor(cell_x))\n",
    "    tile_y = int(math.floor(cell_y))\n",
    "    \n",
    "    xcoord = int(math.floor((cell_x-tile_x)*MNT_TILE_XCOUNT))\n",
    "    ycoord = abs(int(math.floor((cell_y-tile_y)*MNT_TILE_YCOUNT))-(MNT_TILE_YCOUNT-1))    \n",
    "    return tile_x,tile_y,xcoord,ycoord\n",
    "\n",
    "\n",
    "\n",
    "# unit tests\n",
    "\n",
    "for x,tile_x_expected,coord_x_expected in [(1031999.4999,1031,999),\n",
    "                                       (1031999.5,1032,0),\n",
    "                                       (1031999.6,1032,0),\n",
    "                                       (1032998.499,1032,998),\n",
    "                                       (1032998.5,1032,999),\n",
    "                                       (1032998.6,1032,999),\n",
    "                                       (1032998.7,1032,999),\n",
    "                                       (1032998.9,1032,999),\n",
    "                                       (1032999.0,1032,999),\n",
    "                                       (1032999.1,1032,999),\n",
    "                                       (1032999.2,1032,999),\n",
    "                                       (1032999.3,1032,999),\n",
    "                                       (1032999.4,1032,999),\n",
    "                                       (1032999.499,1032,999),\n",
    "                                       (1032999.5,1033,0),]:\n",
    "    coord=(x,0)\n",
    "    tile_x,tile_y,xcoord,ycoord= mnt_xy_to_tile(*coord)\n",
    "    assert_message = \"OK. \" if (tile_x == tile_x_expected) else \"ASSERTION FAILED. \"\n",
    "    assert_message+= \"OK\" if (xcoord == coord_x_expected) else \"ASSERTION FAILED\"\n",
    "    \n",
    "    display(f'X TILE TEST: (y,x) = {coord} --> (tile_x,tile_y)= {(tile_x,tile_y)} @ {(xcoord,ycoord)}. {assert_message}')\n",
    "\n",
    "\n",
    "for y,tile_y_expected,ycoord_expected in [  (6283000.4999,6283,0),                                      \n",
    "                                        (6283000.5,6284,999),\n",
    "                                        (6283000.6,6284,999),\n",
    "                                        (6283999.48,6284,1),\n",
    "                                        (6283999.499,6284,1),\n",
    "                                        (6283999.5,6284,1),\n",
    "                                        (6283999.5111,6284,0),\n",
    "                                        (6283999.6,6284,0),\n",
    "                                        (6283999.7,6284,0),\n",
    "                                        (6283999.9,6284,0),                        \n",
    "                                        (6284000.0,6284,0),\n",
    "                                        (6284000.1,6284,0),\n",
    "                                        (6284000.2,6284,0),\n",
    "                                        (6284000.3,6284,0),\n",
    "                                        (6284000.4,6284,0),\n",
    "                                        (6284000.499,6284,0),\n",
    "                                        (6284000.5,6285,999)]:\n",
    "    coord=(0,y)\n",
    "    tile_x,tile_y,xcoord,ycoord= mnt_xy_to_tile(*coord)\n",
    "    assert_message = \"OK. \" if (tile_y == tile_y_expected) else \"ASSERTION FAILED. \"\n",
    "    assert_message+= \"OK\" if (ycoord == ycoord_expected) else \"ASSERTION FAILED\"\n",
    "    display(f'Y TILE TEST: (y,x) = {coord} --> (tile_x,tile_y)= {(tile_x,tile_y)} @ {(xcoord,ycoord)}. {assert_message}')\n",
    "    "
   ]
  },
  {
   "cell_type": "markdown",
   "id": "aed1845a",
   "metadata": {},
   "source": [
    "## SightPoints MNT elevation attribution"
   ]
  },
  {
   "cell_type": "code",
   "execution_count": 17,
   "id": "672ed064",
   "metadata": {
    "lines_to_end_of_cell_marker": 2,
    "lines_to_next_cell": 0
   },
   "outputs": [
    {
     "name": "stdout",
     "output_type": "stream",
     "text": [
      "[                                                  ] 0% (0 s) ) zone=place_de_gaulle SIGNLINES 258/259 --> 4347[road_sightlines/samples_place_de_gaulle_sightlines_mnt_dataframe] dataset pickled to W:/DATA/Projects/urbaspace/caches\\road_sightlines\\samples_place_de_gaulle_sightlines_mnt_dataframe.pickle\n",
      "[=============================================================================================================================] 250% (0 s) zone=place_de_gaulle  Indicators 250/259[road_indicators/samples_place_de_gaulle_road_mnt_indicators] dataset pickled to W:/DATA/Projects/urbaspace/caches\\road_indicators\\samples_place_de_gaulle_road_mnt_indicators.pickle\n"
     ]
    }
   ],
   "source": [
    "def load_signtlines_geometries(zone_code):\n",
    "    \n",
    "    \n",
    "    df_sightlines_geom = fs_cache.load_pickle('road_sightlines',f'{PARAM_insee_layer_name}_{zone_code}_sightlines_geometries_dataframe')\n",
    "    df_sightlines_geom=df_sightlines_geom[['start_point','end_point','sight_line_points']]    \n",
    "    return df_sightlines_geom\n",
    "\n",
    "\n",
    "from scipy.spatial import distance\n",
    "def compute_slope(start_point,\n",
    "                 end_point,\n",
    "                 sight_line_points,\n",
    "                 z_start,\n",
    "                 z_end,\n",
    "                 z_sight_points):    \n",
    "    if len(sight_line_points)==0:\n",
    "        # cas d'une route sans sight point donc juste les extremités sont définies\n",
    "        if z_end==MNT_NO_DATA_VALUE or z_start==MNT_NO_DATA_VALUE:\n",
    "            # RETURN 0°, 0% slope (small roads)\n",
    "            #raise Exception(f'Unable to compute slope for road {uid}. no sightpoints and a least one z_value NO DATA')\n",
    "            return 0,0,0,False\n",
    "        slope_percent = abs((z_end-z_start)/distance.euclidean(start_point,end_point))\n",
    "        slope_degree =  math.degrees(math.atan(slope_percent))        \n",
    "        return slope_degree,slope_percent,1, True\n",
    "        \n",
    "    # cas au moins un sight sight_line_points    \n",
    "    coords = [start_point]+sight_line_points +[end_point]\n",
    "    z = [z_start]+z_sight_points +[z_end]\n",
    "    nb_points=len(z)\n",
    "    sum_slope_percent = 0\n",
    "    sum_slope_radian = 0\n",
    "    sum_nb_points = 0\n",
    "    for i in range(1,nb_points-1):\n",
    "        A_coord = coords[i-1]\n",
    "        B_coord = coords[i+1]\n",
    "        A_z = z[i-1]\n",
    "        B_z = z[i+1]\n",
    "        if A_z==MNT_NO_DATA_VALUE or B_z==MNT_NO_DATA_VALUE:\n",
    "            # unable to compute slope for this sight point\n",
    "            continue            \n",
    "        sum_nb_points+=1        \n",
    "        inter_slope_percent = abs(B_z-A_z)/distance.euclidean(A_coord,B_coord)\n",
    "        sum_slope_percent += inter_slope_percent\n",
    "        sum_slope_radian += math.atan(inter_slope_percent)\n",
    "        #display(inter_slope_percent)\n",
    "    if sum_nb_points==0:\n",
    "        return 0,0,0,False\n",
    "        #raise Exception(f'Unable to compute slope for road {uid}. no sightpoints without NO DATA Z value')\n",
    "    \n",
    "    slope_percent = sum_slope_percent/sum_nb_points\n",
    "    slope_degree =  math.degrees(sum_slope_radian/sum_nb_points)\n",
    "          \n",
    "    return slope_degree,slope_percent,sum_nb_points, True\n",
    "\n",
    "\n",
    "def compute_signtlines_mnt_elevations(zone_code):\n",
    "    \n",
    "    \n",
    "    \n",
    "    #=================\n",
    "    # Load signline geometries\n",
    "    #=================\n",
    "    df_sightlines_geom=load_signtlines_geometries(zone_code)\n",
    "    \n",
    "    #=================\n",
    "    # ITERATE over SIGNLINES\n",
    "    #=================\n",
    "    POINT_TYPE_START = -1 \n",
    "    POINT_TYPE_END = -2\n",
    "\n",
    "    tiles_values = []\n",
    "    #sight_point_z_values = []\n",
    "\n",
    "    \n",
    "    progress_total = len(df_sightlines_geom)\n",
    "    progress_step = progress_total//100\n",
    "    progress = ProgressBar(progress_total//progress_step)\n",
    "    \n",
    "    progress_count=0\n",
    "\n",
    "    for uid, start_point, end_point, sight_points in df_sightlines_geom.itertuples():\n",
    "        # start point\n",
    "        point_type = POINT_TYPE_START\n",
    "        tile_x,tile_y,xcoord,ycoord=mnt_xy_to_tile(*start_point)\n",
    "        tiles_values.append([uid,point_type,(tile_x,tile_y),xcoord,ycoord])\n",
    "\n",
    "        # end point\n",
    "        point_type = POINT_TYPE_END\n",
    "        tile_x,tile_y,xcoord,ycoord=mnt_xy_to_tile(*end_point)\n",
    "        tiles_values.append([uid,point_type,(tile_x,tile_y),xcoord,ycoord])\n",
    "\n",
    "        # sight points    \n",
    "        for pt,pt_index in zip(sight_points,range(len(sight_points))):\n",
    "            tile_x,tile_y,xcoord,ycoord=mnt_xy_to_tile(*pt)\n",
    "            tiles_values.append([uid,pt_index,(tile_x,tile_y),xcoord,ycoord])\n",
    "\n",
    "        progress_count+=1\n",
    "        if progress_count%progress_step==0:\n",
    "            progress.progress_step(f'zone={zone_code} SIGNLINES {progress_count}/{progress_total} --> {len(tiles_values)}')\n",
    "\n",
    "\n",
    "\n",
    "    df_points_tiles = pd.DataFrame(tiles_values,\n",
    "                                  columns=['uid','point_id','tile','xcoord_in_tile','ycoord_in_tile']).set_index('uid')\n",
    "    \n",
    "    #=================\n",
    "    # ASSIGN MNT elevation after grouping each point by tile reference\n",
    "    #=================\n",
    "    df_points_tiles_group = df_points_tiles.groupby('tile')\n",
    "    z_values = []\n",
    "    \n",
    "    progress_step = 1000 if len(df_points_tiles_group)>=10000 else 10\n",
    "    progress_chunksize = len(df_points_tiles_group)//progress_step\n",
    "    progress = ProgressBar(progress_step)\n",
    "    progress_count=0\n",
    "\n",
    "    for tile, group in df_points_tiles_group:\n",
    "        tile_x,tile_y = tile\n",
    "        # open tile\n",
    "        tile_x_str = f'{tile_x:04}'\n",
    "        tile_y_str = f'{tile_y:04}'\n",
    "\n",
    "\n",
    "        tile_section = gdf_tiles[(gdf_tiles.tile_x==tile_x_str) & (gdf_tiles.tile_y==tile_y_str)]\n",
    "        if len(tile_section)>0:\n",
    "            tile_section = tile_section.iloc[0].tile_section        \n",
    "            tile_filename = os.path.join(MNT_TARGET_PATH,'ASC')\n",
    "            tile_filename = os.path.join(tile_filename,tile_section)\n",
    "            tile_filename = os.path.join(tile_filename,f\"RGEALTI_FXX_{tile_x_str}_{tile_y_str}_MNT_LAMB93_IGN69.asc.bz2\")\n",
    "\n",
    "            z_grid = pickle.load(bz2.open(tile_filename,  'rb' ))\n",
    "            #display(tile_filename)    \n",
    "            for uid,point_id,tt,xcoord_in_tile,ycoord_in_tile in group.itertuples():\n",
    "                z_values.append([uid,point_id,z_grid[ycoord_in_tile,xcoord_in_tile],True])\n",
    "        else:\n",
    "            for uid,point_id,tt,xcoord_in_tile,ycoord_in_tile in group.itertuples():\n",
    "                z_values.append([uid,point_id,MNT_NO_DATA_VALUE,False])\n",
    "\n",
    "\n",
    "        progress_count+=1\n",
    "        if progress_count%progress_step==0:\n",
    "            progress.progress_step(f'zone={zone_code} TILES {progress_count}/{progress_total}')\n",
    "\n",
    "    df_z = pd.DataFrame(z_values,\n",
    "                        columns=['uid','point_id','z','valid'])    \n",
    "    df_z = df_z.sort_values(by=['uid','point_id'])\n",
    "    df_z = df_z.set_index('uid')\n",
    "    \n",
    "    #join results to sight points\n",
    "    df_sightlines_geom=df_sightlines_geom.join(df_z[df_z.point_id==POINT_TYPE_START][['z']].rename(columns={'z':'z_start'}))\n",
    "    df_sightlines_geom=df_sightlines_geom.join(df_z[df_z.point_id==POINT_TYPE_END][['z']].rename(columns={'z':'z_end'}))\n",
    "    df_sightlines_geom=df_sightlines_geom.join(df_z[df_z.point_id>=0][['z']].groupby('uid').aggregate(list).rename(columns={'z':'z_sight_points'}))    \n",
    "    \n",
    "    #=================\n",
    "    # EXPORT SIGNLINE MNT elevation to pickle \n",
    "    #=================\n",
    "    fs_cache.save_to_pickle(df_sightlines_geom,'road_sightlines',f'{PARAM_insee_layer_name}_{zone_code}_sightlines_mnt_dataframe')\n",
    "    \n",
    "    #=================\n",
    "    # Compute all road slope indicators\n",
    "    #=================\n",
    "    slope_values = []\n",
    "    #sight_point_z_values = []\n",
    "\n",
    "    progress_step = 1000 if len(df_sightlines_geom)>=10000 else 10\n",
    "    progress_chunksize = len(df_sightlines_geom)//progress_step\n",
    "    progress = ProgressBar(progress_step)\n",
    "    progress_count=0\n",
    "\n",
    "    for uid, road_row in df_sightlines_geom.iterrows():\n",
    "        slope_degree,slope_percent,n_slopes,slope_is_valid = compute_slope(**road_row)\n",
    "        slope_values.append([uid,\n",
    "                             slope_degree,\n",
    "                             slope_percent,\n",
    "                             n_slopes,\n",
    "                             slope_is_valid])\n",
    "\n",
    "        progress_count+=1\n",
    "        if progress_count%progress_step==0:\n",
    "            progress.progress_step(f'zone={zone_code}  Indicators {progress_count}/{progress_total}')\n",
    "\n",
    "\n",
    "    df_slopes = pd.DataFrame(slope_values,\n",
    "                             columns=['uid',\n",
    "                                      'slope_degree', \n",
    "                                      'slope_percent',\n",
    "                                      'n_slopes',\n",
    "                                      'slope_is_valid']).set_index('uid')\n",
    "    #=================\n",
    "    # EXPORT ROADS MNT indicators as pickle\n",
    "    #=================\n",
    "    \n",
    "    fs_cache.save_to_pickle(df_slopes,\n",
    "                            'road_indicators',\n",
    "                            f'{PARAM_insee_layer_name}_{zone_code}_road_mnt_indicators',\n",
    "                            verbose=display)\n",
    "    \n",
    "\n",
    "for zone_code in PARAM_insee_codes:\n",
    "    compute_signtlines_mnt_elevations(zone_code)"
   ]
  }
 ],
 "metadata": {
  "jupytext": {
   "encoding": "# -*- coding: utf-8 -*-",
   "formats": "ipynb,py:light"
  },
  "kernelspec": {
   "display_name": "Python 3 (ipykernel)",
   "language": "python",
   "name": "python3"
  },
  "language_info": {
   "codemirror_mode": {
    "name": "ipython",
    "version": 3
   },
   "file_extension": ".py",
   "mimetype": "text/x-python",
   "name": "python",
   "nbconvert_exporter": "python",
   "pygments_lexer": "ipython3",
   "version": "3.11.9"
  }
 },
 "nbformat": 4,
 "nbformat_minor": 5
}
