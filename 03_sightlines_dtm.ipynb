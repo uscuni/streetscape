{
 "cells": [
  {
   "cell_type": "code",
   "execution_count": 2,
   "id": "99bcb5f8",
   "metadata": {},
   "outputs": [],
   "source": [
    "import pandas as pd\n",
    "import geopandas as gpd\n",
    "import rioxarray\n",
    "import math\n",
    "import shapely\n",
    "\n",
    "from shapely.geometry import Point, MultiPoint"
   ]
  },
  {
   "cell_type": "code",
   "execution_count": 11,
   "id": "0a21db39",
   "metadata": {},
   "outputs": [],
   "source": [
    "sightlines = pd.read_pickle(\"my_results/method_1/d06_sightlines_geometries.pickle\")\n",
    "sightlines = sightlines[[\"start_point\", \"end_point\", \"sight_line_points\"]]"
   ]
  }
 ],
 "metadata": {
  "jupytext": {
   "encoding": "# -*- coding: utf-8 -*-",
   "formats": "ipynb,py:light"
  },
  "kernelspec": {
   "display_name": "Python 3 (ipykernel)",
   "language": "python",
   "name": "python3"
  },
  "language_info": {
   "codemirror_mode": {
    "name": "ipython",
    "version": 3
   },
   "file_extension": ".py",
   "mimetype": "text/x-python",
   "name": "python",
   "nbconvert_exporter": "python",
   "pygments_lexer": "ipython3",
   "version": "3.11.6"
  }
 },
 "nbformat": 4,
 "nbformat_minor": 5
}
