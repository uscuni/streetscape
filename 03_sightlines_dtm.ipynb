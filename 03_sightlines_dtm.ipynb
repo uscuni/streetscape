{
 "cells": [
  {
   "cell_type": "code",
   "execution_count": 1,
   "id": "99bcb5f8",
   "metadata": {},
   "outputs": [],
   "source": [
    "import pandas as pd\n",
    "import geopandas as gpd\n",
    "import rioxarray\n",
    "import math\n",
    "import shapely\n",
    "import xvec\n",
    "\n",
    "from shapely.geometry import Point, MultiPoint"
   ]
  },
  {
   "cell_type": "code",
   "execution_count": 2,
   "id": "0a21db39",
   "metadata": {},
   "outputs": [],
   "source": [
    "sightlines = pd.read_pickle(\"my_results/method_1/d06_sightlines_geometries.pickle\")\n",
    "sightlines = sightlines[[\"start_point\", \"end_point\", \"sight_line_points\"]]"
   ]
  },
  {
   "cell_type": "markdown",
   "id": "0523e664",
   "metadata": {},
   "source": [
    "# Convert tuples with coordinates to shapely geometry\n",
    "Should eventually be deprecated by already using shapely geometries\n",
    "in the first place."
   ]
  },
  {
   "cell_type": "code",
   "execution_count": 3,
   "id": "fa705303",
   "metadata": {},
   "outputs": [],
   "source": [
    "def convert_to_point(row):\n",
    "    return Point(row)"
   ]
  },
  {
   "cell_type": "code",
   "execution_count": 4,
   "id": "d467e829",
   "metadata": {},
   "outputs": [],
   "source": [
    "def convert_to_multipoint(row):\n",
    "    if row:\n",
    "        return MultiPoint(row)\n",
    "    else:\n",
    "        return None"
   ]
  },
  {
   "cell_type": "code",
   "execution_count": 5,
   "id": "e28ee0a0",
   "metadata": {},
   "outputs": [],
   "source": [
    "# Convert start and end point to geometry\n",
    "tuple_columns = [\"start_point\", \"end_point\"]\n",
    "\n",
    "for col in tuple_columns:\n",
    "    sightlines[col+\"_geom\"] = sightlines[col].apply(convert_to_point)\n",
    "\n",
    "\n",
    "# Convert sight line points to geometry\n",
    "sightlines[\"sl_points\"] = sightlines[\"sight_line_points\"].apply(convert_to_multipoint)"
   ]
  },
  {
   "cell_type": "markdown",
   "id": "dc0ba283",
   "metadata": {},
   "source": [
    "# Load raster dtm"
   ]
  },
  {
   "cell_type": "code",
   "execution_count": 6,
   "id": "f6e743be",
   "metadata": {},
   "outputs": [],
   "source": [
    "raster = rioxarray.open_rasterio(\"data/dtm/dtm_raw/RGEALTI_FXX_1025_6285_MNT_LAMB93_IGN69.asc\")\n",
    "raster = raster.drop_vars(\"band\").squeeze()"
   ]
  },
  {
   "cell_type": "markdown",
   "id": "51d28053",
   "metadata": {},
   "source": [
    "# Extract z coordinates from raster"
   ]
  },
  {
   "cell_type": "code",
   "execution_count": 7,
   "id": "c203ee34",
   "metadata": {},
   "outputs": [],
   "source": [
    "# Extract z coords from raster\n",
    "z_start = raster.drop_vars(\"spatial_ref\").xvec.extract_points(points=sightlines[\"start_point_geom\"], x_coords=\"x\",y_coords=\"y\")\n",
    "\n",
    "# Extract z coords from raster\n",
    "z_end = raster.drop_vars(\"spatial_ref\").xvec.extract_points(points=sightlines[\"end_point_geom\"], x_coords=\"x\",y_coords=\"y\")"
   ]
  },
  {
   "cell_type": "code",
   "execution_count": null,
   "id": "8f119e3c",
   "metadata": {},
   "outputs": [],
   "source": [
    "# TODO\n",
    "# This is waayy to complicated. Should be reworked\n",
    "\n",
    "new_gdf = gpd.GeoDataFrame(columns=['geometry'], geometry='geometry')\n",
    "\n",
    "for row in sightlines[\"sight_line_points_geom\"]:\n",
    "    if row is not None:\n",
    "        points = row.geoms\n",
    "        \n",
    "        z_points = raster.drop_vars(\"spatial_ref\").xvec.extract_points(points=points, x_coords=\"x\",y_coords=\"y\")\n",
    "        z_points = z_points.xvec.to_geopandas().rename(columns={0: \"z\"})\n",
    "\n",
    "        z_points[\"geometry\"] = z_points.apply(lambda row: Point(row[\"geometry\"].x, row[\"geometry\"].y, row[\"z\"]), axis=1)\n",
    "        z_points = z_points.drop(columns=\"z\")\n",
    "        \n",
    "        multipoint = MultiPoint(z_points[\"geometry\"].tolist())\n",
    "        \n",
    "        row_gdf = gpd.GeoDataFrame({'geometry': [multipoint]}, geometry='geometry')\n",
    "\n",
    "        new_gdf = pd.concat([new_gdf, row_gdf], ignore_index=True)\n",
    "    else:\n",
    "        new_row = gpd.GeoDataFrame({'geometry': [None]}, geometry='geometry')\n",
    "        new_gdf = pd.concat([new_gdf, new_row], ignore_index=True)"
   ]
  },
  {
   "cell_type": "markdown",
   "id": "2f3a110e",
   "metadata": {},
   "source": [
    "## Put results together"
   ]
  },
  {
   "cell_type": "code",
   "execution_count": null,
   "id": "cf9ced4d",
   "metadata": {},
   "outputs": [],
   "source": [
    "# Convert do gpd\n",
    "z_start = z_start.xvec.to_geopandas().rename(columns={0: \"z\"})\n",
    "\n",
    "# Append z values to points\n",
    "z_start[\"start_point_3d\"] = z_start.apply(lambda row: Point(row[\"geometry\"].x, row[\"geometry\"].y, row[\"z\"]), axis=1)\n",
    "z_start = z_start.drop(columns=[\"geometry\", \"z\"])\n",
    "\n",
    "# Convert do gpd\n",
    "z_end = z_end.xvec.to_geopandas().rename(columns={0: \"z\"})\n",
    "\n",
    "# Append z values to points\n",
    "z_end[\"end_point_3d\"] = z_end.apply(lambda row: Point(row[\"geometry\"].x, row[\"geometry\"].y, row[\"z\"]), axis=1)\n",
    "z_end = z_end.drop(columns=[\"geometry\", \"z\"])"
   ]
  },
  {
   "cell_type": "code",
   "execution_count": null,
   "id": "2f8f8ff1",
   "metadata": {},
   "outputs": [],
   "source": [
    "sightlines = pd.concat([z_start, z_end, new_gdf], axis=1)\n",
    "\n",
    "sightlines = sightlines.rename(columns={\"start_point_3d\": \"sl_start\",\n",
    "                                          \"end_point_3d\": \"sl_end\",\n",
    "                                          \"geometry\": \"sl_points\"})"
   ]
  },
  {
   "cell_type": "code",
   "execution_count": null,
   "id": "415b6fe2",
   "metadata": {},
   "outputs": [],
   "source": [
    "sightlines"
   ]
  },
  {
   "cell_type": "markdown",
   "id": "cf47ff54",
   "metadata": {},
   "source": [
    "# Compute slope function\n",
    "Finally, yaaay."
   ]
  },
  {
   "cell_type": "code",
   "execution_count": null,
   "id": "de597a50",
   "metadata": {},
   "outputs": [],
   "source": [
    "def compute_slope(road_row):\n",
    "    \n",
    "    start = road_row.sl_start\n",
    "    end = road_row.sl_end\n",
    "    slp = road_row.sl_points\n",
    "\n",
    "    if slp == None:\n",
    "        slope_percent = abs(start.z - end.z) / shapely.distance(start, end)\n",
    "        slope_degree = math.degrees(math.atan(slope_percent))\n",
    "\n",
    "        return slope_percent, slope_degree\n",
    "    \n",
    "    slp_list = [p for p in slp.geoms]\n",
    "\n",
    "    points = []\n",
    "\n",
    "    points.append(start)\n",
    "    for p in slp_list:\n",
    "        points.append(p)\n",
    "    points.append(end)\n",
    "\n",
    "    # number of points\n",
    "    nb_points = len([start]) + len([end]) + len(slp_list)\n",
    "    sum_slope_percent = 0\n",
    "    sum_slope_radian = 0\n",
    "    sum_nb_points = 0\n",
    "    # if theres one or more sl_point\n",
    "    for i in range (1, nb_points-1):\n",
    "        a = points[i-1]\n",
    "        b = points[i+1]\n",
    "            \n",
    "        sum_nb_points += 1\n",
    "        inter_slope_percent = abs(a.z - b.z) / shapely.distance(a, b)\n",
    "\n",
    "        sum_slope_percent += inter_slope_percent\n",
    "        sum_slope_radian += math.atan(inter_slope_percent)\n",
    "        \n",
    "    slope_percent = sum_slope_percent/sum_nb_points\n",
    "    slope_degree = math.degrees(sum_slope_radian/sum_nb_points)\n",
    "\n",
    "    return slope_degree, slope_percent"
   ]
  },
  {
   "cell_type": "markdown",
   "id": "246d682e",
   "metadata": {},
   "source": [
    "# Compute results"
   ]
  },
  {
   "cell_type": "code",
   "execution_count": null,
   "id": "563729ab",
   "metadata": {},
   "outputs": [],
   "source": [
    "slope_values = []\n",
    "\n",
    "for _, road_row in sightlines.iterrows():\n",
    "\n",
    "    # display([p for p in road_row.sl_points.geoms])\n",
    "    # break\n",
    "\n",
    "    slope_degree, slope_percent = compute_slope(road_row)\n",
    "\n",
    "    slope_values.append([slope_degree, slope_percent])\n",
    "\n",
    "    df_slopes = pd.DataFrame(slope_values,\n",
    "                             columns=[\"slope_degree\",\n",
    "                                      \"slope_percent\"])"
   ]
  },
  {
   "cell_type": "code",
   "execution_count": null,
   "id": "3fb51854",
   "metadata": {},
   "outputs": [],
   "source": [
    "df_slopes"
   ]
  }
 ],
 "metadata": {
  "jupytext": {
   "encoding": "# -*- coding: utf-8 -*-",
   "formats": "ipynb,py:light"
  },
  "kernelspec": {
   "display_name": "Python 3 (ipykernel)",
   "language": "python",
   "name": "python3"
  },
  "language_info": {
   "codemirror_mode": {
    "name": "ipython",
    "version": 3
   },
   "file_extension": ".py",
   "mimetype": "text/x-python",
   "name": "python",
   "nbconvert_exporter": "python",
   "pygments_lexer": "ipython3",
   "version": "3.11.9"
  }
 },
 "nbformat": 4,
 "nbformat_minor": 5
}
