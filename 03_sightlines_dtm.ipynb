{
 "cells": [
  {
   "cell_type": "code",
   "execution_count": null,
   "id": "99bcb5f8",
   "metadata": {},
   "outputs": [],
   "source": [
    "import pandas as pd\n",
    "import geopandas as gpd\n",
    "import rioxarray\n",
    "import math\n",
    "import shapely\n",
    "\n",
    "from shapely.geometry import Point, MultiPoint"
   ]
  },
  {
   "cell_type": "code",
   "execution_count": null,
   "id": "0a21db39",
   "metadata": {},
   "outputs": [],
   "source": [
    "sightlines = pd.read_pickle(\"my_results/method_1/d06_sightlines_geometries.pickle\")\n",
    "sightlines = sightlines[[\"start_point\", \"end_point\", \"sight_line_points\"]]"
   ]
  },
  {
   "cell_type": "markdown",
   "id": "0523e664",
   "metadata": {},
   "source": [
    "# Convert tuples with coordinates to shapely geometry\n",
    "Should eventually be deprecated by already using shapely geometries\n",
    "in the first place."
   ]
  },
  {
   "cell_type": "code",
   "execution_count": null,
   "id": "fa705303",
   "metadata": {},
   "outputs": [],
   "source": [
    "def convert_to_point(row):\n",
    "    return Point(row)"
   ]
  },
  {
   "cell_type": "code",
   "execution_count": null,
   "id": "d467e829",
   "metadata": {},
   "outputs": [],
   "source": [
    "def convert_to_multipoint(row):\n",
    "    if row:\n",
    "        return MultiPoint(row)\n",
    "    else:\n",
    "        return None"
   ]
  },
  {
   "cell_type": "code",
   "execution_count": null,
   "id": "e28ee0a0",
   "metadata": {},
   "outputs": [],
   "source": [
    "# Convert start and end point to geometry\n",
    "tuple_columns = [\"start_point\", \"end_point\"]\n",
    "\n",
    "for col in tuple_columns:\n",
    "    sightlines[col+\"_geom\"] = sightlines[col].apply(convert_to_point)\n",
    "\n",
    "\n",
    "# Convert sight line points to geometry\n",
    "sightlines[\"sl_points\"] = sightlines[\"sight_line_points\"].apply(convert_to_multipoint)"
   ]
  }
 ],
 "metadata": {
  "jupytext": {
   "encoding": "# -*- coding: utf-8 -*-",
   "formats": "ipynb,py:light"
  },
  "kernelspec": {
   "display_name": "Python 3 (ipykernel)",
   "language": "python",
   "name": "python3"
  },
  "language_info": {
   "codemirror_mode": {
    "name": "ipython",
    "version": 3
   },
   "file_extension": ".py",
   "mimetype": "text/x-python",
   "name": "python",
   "nbconvert_exporter": "python",
   "pygments_lexer": "ipython3",
   "version": "3.11.9"
  }
 },
 "nbformat": 4,
 "nbformat_minor": 5
}
