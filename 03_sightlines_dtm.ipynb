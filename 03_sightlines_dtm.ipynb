{
 "cells": [
  {
   "cell_type": "code",
   "execution_count": 1,
   "id": "99bcb5f8",
   "metadata": {},
   "outputs": [],
   "source": [
    "import pandas as pd\n",
    "import geopandas as gpd\n",
    "import rioxarray\n",
    "import math\n",
    "import shapely\n",
    "import xvec\n",
    "\n",
    "from shapely.geometry import Point, MultiPoint"
   ]
  },
  {
   "cell_type": "code",
   "execution_count": 2,
   "id": "0a21db39",
   "metadata": {},
   "outputs": [],
   "source": [
    "sightlines = pd.read_pickle(\"my_results/method_1/d06_sightlines_geometries.pickle\")\n",
    "sightlines = sightlines[[\"start_point\", \"end_point\", \"sight_line_points\"]]"
   ]
  },
  {
   "cell_type": "markdown",
   "id": "0523e664",
   "metadata": {},
   "source": [
    "# Convert tuples with coordinates to shapely geometry\n",
    "Should eventually be deprecated by already using shapely geometries\n",
    "in the first place."
   ]
  },
  {
   "cell_type": "code",
   "execution_count": 3,
   "id": "fa705303",
   "metadata": {},
   "outputs": [],
   "source": [
    "def convert_to_point(row):\n",
    "    return Point(row)"
   ]
  },
  {
   "cell_type": "code",
   "execution_count": 4,
   "id": "d467e829",
   "metadata": {},
   "outputs": [],
   "source": [
    "def convert_to_multipoint(row):\n",
    "    if row:\n",
    "        return MultiPoint(row)\n",
    "    else:\n",
    "        return None"
   ]
  },
  {
   "cell_type": "code",
   "execution_count": 5,
   "id": "e28ee0a0",
   "metadata": {},
   "outputs": [],
   "source": [
    "# Convert start and end point to geometry\n",
    "tuple_columns = [\"start_point\", \"end_point\"]\n",
    "\n",
    "for col in tuple_columns:\n",
    "    sightlines[col+\"_geom\"] = sightlines[col].apply(convert_to_point)\n",
    "\n",
    "\n",
    "# Convert sight line points to geometry\n",
    "sightlines[\"sl_points\"] = sightlines[\"sight_line_points\"].apply(convert_to_multipoint)"
   ]
  },
  {
   "cell_type": "markdown",
   "id": "dc0ba283",
   "metadata": {},
   "source": [
    "# Load raster dtm"
   ]
  },
  {
   "cell_type": "code",
   "execution_count": 6,
   "id": "f6e743be",
   "metadata": {},
   "outputs": [],
   "source": [
    "raster = rioxarray.open_rasterio(\"data/dtm/dtm_raw/RGEALTI_FXX_1025_6285_MNT_LAMB93_IGN69.asc\")\n",
    "raster = raster.drop_vars(\"band\").squeeze()"
   ]
  },
  {
   "cell_type": "markdown",
   "id": "51d28053",
   "metadata": {},
   "source": [
    "# Extract z coordinates from raster"
   ]
  },
  {
   "cell_type": "code",
   "execution_count": 7,
   "id": "c203ee34",
   "metadata": {},
   "outputs": [],
   "source": [
    "# Extract z coords from raster\n",
    "z_start = raster.drop_vars(\"spatial_ref\").xvec.extract_points(points=sightlines[\"start_point_geom\"], x_coords=\"x\",y_coords=\"y\")\n",
    "\n",
    "# Extract z coords from raster\n",
    "z_end = raster.drop_vars(\"spatial_ref\").xvec.extract_points(points=sightlines[\"end_point_geom\"], x_coords=\"x\",y_coords=\"y\")"
   ]
  },
  {
   "cell_type": "code",
   "execution_count": null,
   "id": "8f119e3c",
   "metadata": {},
   "outputs": [],
   "source": [
    "# TODO\n",
    "# This is waayy to complicated. Should be reworked\n",
    "\n",
    "new_gdf = gpd.GeoDataFrame(columns=['geometry'], geometry='geometry')\n",
    "\n",
    "for row in sightlines[\"sight_line_points_geom\"]:\n",
    "    if row is not None:\n",
    "        points = row.geoms\n",
    "        \n",
    "        z_points = raster.drop_vars(\"spatial_ref\").xvec.extract_points(points=points, x_coords=\"x\",y_coords=\"y\")\n",
    "        z_points = z_points.xvec.to_geopandas().rename(columns={0: \"z\"})\n",
    "\n",
    "        z_points[\"geometry\"] = z_points.apply(lambda row: Point(row[\"geometry\"].x, row[\"geometry\"].y, row[\"z\"]), axis=1)\n",
    "        z_points = z_points.drop(columns=\"z\")\n",
    "        \n",
    "        multipoint = MultiPoint(z_points[\"geometry\"].tolist())\n",
    "        \n",
    "        row_gdf = gpd.GeoDataFrame({'geometry': [multipoint]}, geometry='geometry')\n",
    "\n",
    "        new_gdf = pd.concat([new_gdf, row_gdf], ignore_index=True)\n",
    "    else:\n",
    "        new_row = gpd.GeoDataFrame({'geometry': [None]}, geometry='geometry')\n",
    "        new_gdf = pd.concat([new_gdf, new_row], ignore_index=True)"
   ]
  }
 ],
 "metadata": {
  "jupytext": {
   "encoding": "# -*- coding: utf-8 -*-",
   "formats": "ipynb,py:light"
  },
  "kernelspec": {
   "display_name": "Python 3 (ipykernel)",
   "language": "python",
   "name": "python3"
  },
  "language_info": {
   "codemirror_mode": {
    "name": "ipython",
    "version": 3
   },
   "file_extension": ".py",
   "mimetype": "text/x-python",
   "name": "python",
   "nbconvert_exporter": "python",
   "pygments_lexer": "ipython3",
   "version": "3.11.9"
  }
 },
 "nbformat": 4,
 "nbformat_minor": 5
}
